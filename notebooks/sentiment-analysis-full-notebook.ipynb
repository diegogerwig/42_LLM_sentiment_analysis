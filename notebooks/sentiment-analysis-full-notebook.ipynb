{
 "cells": [
  {
   "cell_type": "markdown",
   "metadata": {},
   "source": [
    "# Sentiment Analysis Project with Transfer Learning and Fine-Tuning\n",
    "\n",
    "## 1. Introduction\n",
    "\n",
    "In this project, we will explore the use of transfer learning and fine-tuning techniques for sentiment analysis. We'll utilize pre-trained models and adjust them for our specific task of classifying sentiment in text data."
   ]
  },
  {
   "cell_type": "markdown",
   "metadata": {},
   "source": [
    "## 2. Environment Setup\n",
    "\n",
    "First, let's import the necessary libraries and set up our environment."
   ]
  },
  {
   "cell_type": "code",
   "execution_count": null,
   "metadata": {},
   "outputs": [],
   "source": [
    "import torch\n",
    "from transformers import AutoTokenizer, AutoModelForSequenceClassification, Trainer, TrainingArguments\n",
    "from datasets import load_dataset\n",
    "import numpy as np\n",
    "from sklearn.metrics import accuracy_score\n",
    "\n",
    "print(f\"PyTorch version: {torch.__version__}\")\n",
    "print(f\"CUDA available: {torch.cuda.is_available()}\")"
   ]
  },
  {
   "cell_type": "markdown",
   "metadata": {},
   "source": [
    "## 3. Model and Platform Research and Selection\n",
    "\n",
    "For this project, we'll use the DistilBERT model, which is a lighter and faster version of BERT. We'll run this notebook on the local machine or a cloud platform like Google Colab.\n",
    "\n",
    "Other models we considered:\n",
    "- BERT\n",
    "- RoBERTa\n",
    "- Electra\n",
    "- XLNet\n",
    "\n",
    "We chose DistilBERT for its good balance between performance and computational efficiency."
   ]
  },
  {
   "cell_type": "markdown",
   "metadata": {},
   "source": [
    "## 4. Tokenization Research and Selection\n",
    "\n",
    "We'll use the DistilBERT tokenizer, which is optimized for the DistilBERT model."
   ]
  },
  {
   "cell_type": "code",
   "execution_count": null,
   "metadata": {},
   "outputs": [],
   "source": [
    "tokenizer = AutoTokenizer.from_pretrained(\"distilbert-base-uncased\")\n",
    "\n",
    "# Example of tokenization\n",
    "example_text = \"This movie was great! I really enjoyed it.\"\n",
    "tokenized_text = tokenizer(example_text, padding=True, truncation=True, return_tensors=\"pt\")\n",
    "print(\"Tokenized text:\", tokenizer.convert_ids_to_tokens(tokenized_text[\"input_ids\"][0]))"
   ]
  },
  {
   "cell_type": "markdown",
   "metadata": {},
   "source": [
    "## 5. Dataset Research and Selection\n",
    "\n",
    "We'll use the IMDB dataset for sentiment analysis. This dataset contains movie reviews labeled as positive or negative."
   ]
  },
  {
   "cell_type": "code",
   "execution_count": 1,
   "metadata": {},
   "outputs": [
    {
     "ename": "NameError",
     "evalue": "name 'load_dataset' is not defined",
     "output_type": "error",
     "traceback": [
      "\u001b[1;31m---------------------------------------------------------------------------\u001b[0m",
      "\u001b[1;31mNameError\u001b[0m                                 Traceback (most recent call last)",
      "Cell \u001b[1;32mIn[1], line 1\u001b[0m\n\u001b[1;32m----> 1\u001b[0m dataset \u001b[38;5;241m=\u001b[39m \u001b[43mload_dataset\u001b[49m(\u001b[38;5;124m\"\u001b[39m\u001b[38;5;124mimdb\u001b[39m\u001b[38;5;124m\"\u001b[39m)\n\u001b[0;32m      3\u001b[0m \u001b[38;5;66;03m# Split into training and testing sets\u001b[39;00m\n\u001b[0;32m      4\u001b[0m train_dataset \u001b[38;5;241m=\u001b[39m dataset[\u001b[38;5;124m\"\u001b[39m\u001b[38;5;124mtrain\u001b[39m\u001b[38;5;124m\"\u001b[39m]\n",
      "\u001b[1;31mNameError\u001b[0m: name 'load_dataset' is not defined"
     ]
    }
   ],
   "source": [
    "dataset = load_dataset(\"imdb\")\n",
    "\n",
    "# Split into training and testing sets\n",
    "train_dataset = dataset[\"train\"]\n",
    "test_dataset = dataset[\"test\"]\n",
    "\n",
    "print(f\"Training set size: {len(train_dataset)}\")\n",
    "print(f\"Testing set size: {len(test_dataset)}\")"
   ]
  },
  {
   "cell_type": "markdown",
   "metadata": {},
   "source": [
    "## 6. Model Training\n",
    "\n",
    "Now we'll fine-tune the DistilBERT model on our IMDB dataset."
   ]
  },
  {
   "cell_type": "code",
   "execution_count": null,
   "metadata": {},
   "outputs": [],
   "source": [
    "# Load the pre-trained model\n",
    "model = AutoModelForSequenceClassification.from_pretrained(\"distilbert-base-uncased\", num_labels=2)\n",
    "\n",
    "# Set up training arguments\n",
    "training_args = TrainingArguments(\n",
    "    output_dir=\"./results\",\n",
    "    num_train_epochs=3,\n",
    "    per_device_train_batch_size=16,\n",
    "    per_device_eval_batch_size=64,\n",
    "    warmup_steps=500,\n",
    "    weight_decay=0.01,\n",
    "    logging_dir=\"./logs\",\n",
    "    logging_steps=10,\n",
    ")\n",
    "\n",
    "# Prepare the datasets\n",
    "def tokenize_function(examples):\n",
    "    return tokenizer(examples[\"text\"], padding=\"max_length\", truncation=True)\n",
    "\n",
    "tokenized_train = train_dataset.map(tokenize_function, batched=True)\n",
    "tokenized_test = test_dataset.map(tokenize_function, batched=True)\n",
    "\n",
    "# Initialize the Trainer\n",
    "trainer = Trainer(\n",
    "    model=model,\n",
    "    args=training_args,\n",
    "    train_dataset=tokenized_train,\n",
    "    eval_dataset=tokenized_test,\n",
    ")\n",
    "\n",
    "# Train the model\n",
    "trainer.train()"
   ]
  },
  {
   "cell_type": "markdown",
   "metadata": {},
   "source": [
    "## 7. Model Evaluation\n",
    "\n",
    "Let's evaluate our model's performance on the test set."
   ]
  },
  {
   "cell_type": "code",
   "execution_count": null,
   "metadata": {},
   "outputs": [],
   "source": [
    "# Make predictions on the test set\n",
    "predictions = trainer.predict(tokenized_test)\n",
    "\n",
    "# Calculate accuracy\n",
    "preds = np.argmax(predictions.predictions, axis=-1)\n",
    "accuracy = accuracy_score(tokenized_test[\"label\"], preds)\n",
    "print(f\"Model accuracy: {accuracy}\")"
   ]
  },
  {
   "cell_type": "markdown",
   "metadata": {},
   "source": [
    "## 8. Model Generalization\n",
    "\n",
    "To test our model's generalization capability, let's evaluate it on a different dataset, such as Yelp reviews."
   ]
  },
  {
   "cell_type": "code",
   "execution_count": null,
   "metadata": {},
   "outputs": [],
   "source": [
    "# Load the Yelp dataset\n",
    "yelp_dataset = load_dataset(\"yelp_review_full\")\n",
    "yelp_test = yelp_dataset[\"test\"].select(range(10000))  # Use a subset for faster evaluation\n",
    "\n",
    "# Tokenize the Yelp dataset\n",
    "tokenized_yelp = yelp_test.map(tokenize_function, batched=True)\n",
    "\n",
    "# Evaluate the model on the Yelp dataset\n",
    "yelp_predictions = trainer.predict(tokenized_yelp)\n",
    "yelp_preds = np.argmax(yelp_predictions.predictions, axis=-1)\n",
    "yelp_accuracy = accuracy_score(tokenized_yelp[\"label\"], yelp_preds)\n",
    "print(f\"Accuracy on Yelp dataset: {yelp_accuracy}\")"
   ]
  },
  {
   "cell_type": "markdown",
   "metadata": {},
   "source": [
    "## 9. Comparison of Tokenization Techniques\n",
    "\n",
    "Let's compare the tokenization outputs of different models to understand how they process text differently."
   ]
  },
  {
   "cell_type": "code",
   "execution_count": null,
   "metadata": {},
   "outputs": [],
   "source": [
    "text = \"This movie was fantastic! The acting was superb and the plot kept me on the edge of my seat.\"\n",
    "\n",
    "tokenizer_bert = AutoTokenizer.from_pretrained(\"bert-base-uncased\")\n",
    "tokenizer_roberta = AutoTokenizer.from_pretrained(\"roberta-base\")\n",
    "\n",
    "print(\"DistilBERT tokenization:\", tokenizer.tokenize(text))\n",
    "print(\"BERT tokenization:\", tokenizer_bert.tokenize(text))\n",
    "print(\"RoBERTa tokenization:\", tokenizer_roberta.tokenize(text))"
   ]
  },
  {
   "cell_type": "markdown",
   "metadata": {},
   "source": [
    "## 10. Model Deployment\n",
    "\n",
    "To deploy our model for real-time sentiment prediction, we can create a simple Flask application. Here's an example of how this could be implemented:"
   ]
  },
  {
   "cell_type": "code",
   "execution_count": null,
   "metadata": {},
   "outputs": [],
   "source": [
    "from flask import Flask, request, jsonify\n",
    "\n",
    "app = Flask(__name__)\n",
    "\n",
    "@app.route('/predict', methods=['POST'])\n",
    "def predict():\n",
    "    text = request.json['text']\n",
    "    inputs = tokenizer(text, return_tensors=\"pt\", padding=True, truncation=True)\n",
    "    outputs = model(**inputs)\n",
    "    prediction = torch.nn.functional.softmax(outputs.logits, dim=-1)\n",
    "    sentiment = 'positive' if prediction[0][1] > 0.5 else 'negative'\n",
    "    confidence = float(prediction[0][1] if sentiment == 'positive' else prediction[0][0])\n",
    "    return jsonify({'sentiment': sentiment, 'confidence': confidence})\n",
    "\n",
    "# Uncomment the following lines to run the Flask app\n",
    "# if __name__ == '__main__':\n",
    "#     app.run(debug=True)\n",
    "\n",
    "print(\"To deploy this model, run the Flask app in a production environment.\")"
   ]
  },
  {
   "cell_type": "markdown",
   "metadata": {},
   "source": [
    "## 11. Conclusions\n",
    "\n",
    "In this project, we've successfully fine-tuned a DistilBERT model for sentiment analysis. Here are some key takeaways:\n",
    "\n",
    "1. We achieved good accuracy on the IMDB dataset, demonstrating the effectiveness of transfer learning.\n",
    "2. The model showed some generalization capability when tested on the Yelp dataset, though with lower accuracy.\n",
    "3. Different tokenization techniques can lead to slightly different representations of the same text.\n",
    "4. Deploying the model as a web service allows for real-time sentiment predictions.\n",
    "\n",
    "Future improvements could include:\n",
    "- Experimenting with other pre-trained models\n",
    "- Fine-tuning hyperparameters for better performance\n",
    "- Collecting a more diverse dataset for improved generalization\n",
    "- Implementing more robust error handling and input validation in the deployment script\n",
    "\n",
    "This project demonstrates the power of transfer learning in NLP tasks and provides a foundation for further exploration in sentiment analysis and related fields."
   ]
  }
 ],
 "metadata": {
  "kernelspec": {
   "display_name": "Python 3",
   "language": "python",
   "name": "python3"
  },
  "language_info": {
   "codemirror_mode": {
    "name": "ipython",
    "version": 3
   },
   "file_extension": ".py",
   "mimetype": "text/x-python",
   "name": "python",
   "nbconvert_exporter": "python",
   "pygments_lexer": "ipython3",
   "version": "3.10.11"
  }
 },
 "nbformat": 4,
 "nbformat_minor": 4
}
